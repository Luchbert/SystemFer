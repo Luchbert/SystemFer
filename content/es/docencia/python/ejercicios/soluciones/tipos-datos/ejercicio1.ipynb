{
  "cells": [
    {
      "cell_type": "markdown",
      "metadata": {
        "id": "ITI6yGU3edNB"
      },
      "source": [
        "## Ejercicio\n",
        "Escribir un programa que muestre por pantalla la frase `¡Hola mundo!`"
      ]
    },
    {
      "cell_type": "markdown",
      "metadata": {
        "id": "rnCOt6g1edNE"
      },
      "source": [
        "## Solución"
      ]
    },
    {
      "cell_type": "code",
      "execution_count": null,
      "metadata": {
        "id": "lVxGsjaeedNF",
        "outputId": "7f47df65-3b53-47af-d364-514bda8c6f2f"
      },
      "outputs": [
        {
          "name": "stdout",
          "output_type": "stream",
          "text": [
            "¡Hola Mundo!\n"
          ]
        }
      ],
      "source": [
        "print(\"¡Hola Mundo!\")"
      ]
    },
    {
      "cell_type": "code",
      "source": [
        "print(\"Coosalud les informa a sus pacientes que debido a politicas internas del ministerio de salud, fucionaremos en horarios reducidos hasta nueva orden, mil discupas. Para mayor información comunicarse a atención al cliente\")"
      ],
      "metadata": {
        "id": "8pBcx-N6egIa",
        "outputId": "011c7199-7d45-471e-c4f8-3b3b8a80201d",
        "colab": {
          "base_uri": "https://localhost:8080/"
        }
      },
      "execution_count": 1,
      "outputs": [
        {
          "output_type": "stream",
          "name": "stdout",
          "text": [
            "Coosalud les informa a sus pacientes que debido a politicas internas del ministerio de salud, fucionaremos en horarios reducidos hasta nueva orden, mil discupas. Para mayor información comunicarse a atención al cliente\n"
          ]
        }
      ]
    }
  ],
  "metadata": {
    "kernelspec": {
      "display_name": "Python 3",
      "language": "python",
      "name": "python3"
    },
    "language_info": {
      "codemirror_mode": {
        "name": "ipython",
        "version": 3
      },
      "file_extension": ".py",
      "mimetype": "text/x-python",
      "name": "python",
      "nbconvert_exporter": "python",
      "pygments_lexer": "ipython3",
      "version": "3.7.1"
    },
    "colab": {
      "provenance": []
    }
  },
  "nbformat": 4,
  "nbformat_minor": 0
}