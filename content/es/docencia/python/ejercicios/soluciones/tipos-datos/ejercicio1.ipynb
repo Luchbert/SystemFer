{
  "cells": [
    {
      "cell_type": "markdown",
      "metadata": {
        "id": "0tInc9Ygf6dw"
      },
      "source": [
        "Archivos de atención al cliente de compañias socias"
      ]
    },
    {
      "cell_type": "code",
      "source": [
        "print(\"Ejecución del logo:8928199_3\")"
      ],
      "metadata": {
        "id": "zLMo_nWVgLMZ",
        "outputId": "c6d8c683-390c-4d7e-b17e-279b996165fe",
        "colab": {
          "base_uri": "https://localhost:8080/"
        }
      },
      "execution_count": 2,
      "outputs": [
        {
          "output_type": "stream",
          "name": "stdout",
          "text": [
            "Ejecución del logo:8928199_3\n"
          ]
        }
      ]
    },
    {
      "cell_type": "markdown",
      "metadata": {
        "id": "f0s9ZSbDf6dx"
      },
      "source": [
        "## Solución"
      ]
    }
  ],
  "metadata": {
    "kernelspec": {
      "display_name": "Python 3",
      "language": "python",
      "name": "python3"
    },
    "language_info": {
      "codemirror_mode": {
        "name": "ipython",
        "version": 3
      },
      "file_extension": ".py",
      "mimetype": "text/x-python",
      "name": "python",
      "nbconvert_exporter": "python",
      "pygments_lexer": "ipython3",
      "version": "3.7.1"
    },
    "colab": {
      "provenance": []
    }
  },
  "nbformat": 4,
  "nbformat_minor": 0
}