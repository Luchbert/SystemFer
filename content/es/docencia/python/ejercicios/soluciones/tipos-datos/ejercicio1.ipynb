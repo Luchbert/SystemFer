{
  "cells": [
    {
      "cell_type": "markdown",
      "metadata": {
        "id": "0tInc9Ygf6dw"
      },
      "source": [
        "Archivos de atención al cliente de compañias socias"
      ]
    },
    {
      "cell_type": "markdown",
      "metadata": {
        "id": "f0s9ZSbDf6dx"
      },
      "source": [
        "## Solución"
      ]
    },
    {
      "cell_type": "code",
      "source": [
        "print(\"Buen dia estimad@ Usuari@, cordial saludo\")"
      ],
      "metadata": {
        "colab": {
          "base_uri": "https://localhost:8080/"
        },
        "id": "3IOYZfIegqbB",
        "outputId": "7a3ffa8e-d89a-41e3-b41e-b9de73500f5b"
      },
      "execution_count": 4,
      "outputs": [
        {
          "output_type": "stream",
          "name": "stdout",
          "text": [
            "Buen dia estimad@ Usuari@, cordial saludo\n"
          ]
        }
      ]
    },
    {
      "cell_type": "code",
      "source": [
        "print(\"Estimados usuarios de Coosalud,\\n\")"
      ],
      "metadata": {
        "id": "PBMq2nVihro4",
        "outputId": "b662da30-e991-419e-b269-0ba9b31e539d",
        "colab": {
          "base_uri": "https://localhost:8080/"
        }
      },
      "execution_count": 8,
      "outputs": [
        {
          "output_type": "stream",
          "name": "stdout",
          "text": [
            "Estimados usuarios de Coosalud,\n",
            "\n"
          ]
        }
      ]
    },
    {
      "cell_type": "code",
      "source": [
        "print(\"Por políticas del estado, el servicio estará limitado.\\n\")"
      ],
      "metadata": {
        "id": "mF5Km55cjM1A",
        "outputId": "2ba7d122-15ff-4642-ecc2-90fa339c9c73",
        "colab": {
          "base_uri": "https://localhost:8080/"
        }
      },
      "execution_count": 9,
      "outputs": [
        {
          "output_type": "stream",
          "name": "stdout",
          "text": [
            "Por políticas del estado, el servicio estará limitado.\n",
            "\n"
          ]
        }
      ]
    },
    {
      "cell_type": "code",
      "source": [
        "print(\"Agradecemos su comprensión y estamos aquí para ayudarles en lo que necesiten.\")"
      ],
      "metadata": {
        "id": "zLnzrZ5JjU0f",
        "outputId": "58e3e72f-3f16-4a4d-f9c3-1baa871f6e3b",
        "colab": {
          "base_uri": "https://localhost:8080/"
        }
      },
      "execution_count": 10,
      "outputs": [
        {
          "output_type": "stream",
          "name": "stdout",
          "text": [
            "Agradecemos su comprensión y estamos aquí para ayudarles en lo que necesiten.\n"
          ]
        }
      ]
    }
  ],
  "metadata": {
    "kernelspec": {
      "display_name": "Python 3",
      "language": "python",
      "name": "python3"
    },
    "language_info": {
      "codemirror_mode": {
        "name": "ipython",
        "version": 3
      },
      "file_extension": ".py",
      "mimetype": "text/x-python",
      "name": "python",
      "nbconvert_exporter": "python",
      "pygments_lexer": "ipython3",
      "version": "3.7.1"
    },
    "colab": {
      "provenance": []
    }
  },
  "nbformat": 4,
  "nbformat_minor": 0
}