{
  "cells": [
    {
      "cell_type": "markdown",
      "metadata": {
        "id": "0tInc9Ygf6dw"
      },
      "source": [
        "Archivos de atención al cliente de compañias socias"
      ]
    },
    {
      "cell_type": "code",
      "source": [
        "print(\"Ejecución del logo:8928199_3\")"
      ],
      "metadata": {
        "colab": {
          "base_uri": "https://localhost:8080/"
        },
        "id": "zLMo_nWVgLMZ",
        "outputId": "050950f7-40a6-43d8-8d08-a1881c14fcca"
      },
      "execution_count": 3,
      "outputs": [
        {
          "output_type": "stream",
          "name": "stdout",
          "text": [
            "Ejecución del logo:8928199_3\n"
          ]
        }
      ]
    },
    {
      "cell_type": "code",
      "source": [
        "print(\"Buen dia estimad@ Usuari@, cordial saludo\")"
      ],
      "metadata": {
        "id": "3IOYZfIegqbB",
        "outputId": "7a3ffa8e-d89a-41e3-b41e-b9de73500f5b",
        "colab": {
          "base_uri": "https://localhost:8080/"
        }
      },
      "execution_count": 4,
      "outputs": [
        {
          "output_type": "stream",
          "name": "stdout",
          "text": [
            "Buen dia estimad@ Usuari@, cordial saludo\n"
          ]
        }
      ]
    },
    {
      "cell_type": "markdown",
      "metadata": {
        "id": "f0s9ZSbDf6dx"
      },
      "source": [
        "## Solución"
      ]
    }
  ],
  "metadata": {
    "kernelspec": {
      "display_name": "Python 3",
      "language": "python",
      "name": "python3"
    },
    "language_info": {
      "codemirror_mode": {
        "name": "ipython",
        "version": 3
      },
      "file_extension": ".py",
      "mimetype": "text/x-python",
      "name": "python",
      "nbconvert_exporter": "python",
      "pygments_lexer": "ipython3",
      "version": "3.7.1"
    },
    "colab": {
      "provenance": []
    }
  },
  "nbformat": 4,
  "nbformat_minor": 0
}